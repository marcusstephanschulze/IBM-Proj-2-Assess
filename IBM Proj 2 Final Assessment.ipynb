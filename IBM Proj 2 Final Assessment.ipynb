{
 "cells": [
  {
   "cell_type": "markdown",
   "metadata": {},
   "source": [
    "## My Jupter Notebook on GitHub (*Exception) \n",
    "\n",
    "The Course moderator instructed me to upload this file to my GitHub repository because of issues with the Watson Studios. \n"
   ]
  },
  {
   "cell_type": "markdown",
   "metadata": {},
   "source": [
    "**Marcus Schulze** \n",
    "\n",
    "Data Analyst"
   ]
  },
  {
   "cell_type": "markdown",
   "metadata": {},
   "source": [
    "*I am interested in data science because the skillset can be applied to a variety of sectors, and it allows for investigation into business issues and methods of solving these issues to drive strategic decisions.*"
   ]
  },
  {
   "cell_type": "markdown",
   "metadata": {},
   "source": [
    "### Prints the first 10 numbers"
   ]
  },
  {
   "cell_type": "code",
   "execution_count": 8,
   "metadata": {},
   "outputs": [
    {
     "name": "stdout",
     "output_type": "stream",
     "text": [
      "1\n",
      "2\n",
      "3\n",
      "4\n",
      "5\n",
      "6\n",
      "7\n",
      "8\n",
      "9\n",
      "10\n"
     ]
    }
   ],
   "source": [
    "for i in range(1,11,1):\n",
    "    print(i)"
   ]
  },
  {
   "cell_type": "markdown",
   "metadata": {},
   "source": [
    "### Cell 5 Requirements below:\n",
    "\n",
    "#### Strikethrough example:\n",
    "\n",
    "~~The world is flat.~~\n",
    "\n",
    "#### Ordered list example: \n",
    "\n",
    "1. Peanuts\n",
    "2. Kiwi\n",
    "3. Banana\n",
    "4. Cumin \n",
    "\n",
    "#### Table example: \n",
    "\n",
    "| Recipe item | cost ($) |\n",
    "| ----------- | ----------- |\n",
    "| peanuts | 9000 |\n",
    "| kiwi | 6.50 |\n"
   ]
  },
  {
   "cell_type": "code",
   "execution_count": null,
   "metadata": {},
   "outputs": [],
   "source": []
  }
 ],
 "metadata": {
  "kernelspec": {
   "display_name": "Python 3",
   "language": "python",
   "name": "python3"
  },
  "language_info": {
   "codemirror_mode": {
    "name": "ipython",
    "version": 3
   },
   "file_extension": ".py",
   "mimetype": "text/x-python",
   "name": "python",
   "nbconvert_exporter": "python",
   "pygments_lexer": "ipython3",
   "version": "3.8.3"
  }
 },
 "nbformat": 4,
 "nbformat_minor": 4
}
